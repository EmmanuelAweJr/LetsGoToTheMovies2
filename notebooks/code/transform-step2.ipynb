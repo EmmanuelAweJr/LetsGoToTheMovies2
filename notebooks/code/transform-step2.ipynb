{
 "cells": [
  {
   "cell_type": "markdown",
   "metadata": {},
   "source": [
    "#TRANSFORMATION OF DATA\n",
    "\n",
    "#The Datatramforation Process, allows for the data to be represented in a different way because we are speading areas of the data that ave missing information will be handeled or transposed in a manner to accomodate the data without jeapordizing the integrety of the data and or the study\n",
    "Removing ( or dropping) rows and / or columns with missing data ( where applicable).\n",
    "In summary, the following will occur:\n",
    "# *Transposing data \n",
    "# *Removing or Dropping specified Rows and / or Columns\n",
    "\n"
   ]
  },
  {
   "cell_type": "code",
   "execution_count": null,
   "metadata": {},
   "outputs": [],
   "source": [
    "import pandas as pd\n",
    "import numpy as np"
   ]
  },
  {
   "cell_type": "code",
   "execution_count": null,
   "metadata": {},
   "outputs": [],
   "source": [
    "# TODO: load `data/raw/shopping.csv` as a pandas dataframe\n",
    "df=pd.read_csv('C:/Users/deema/Desktop/Lab4/shopping-behavior/data/raw/shopping.csv')  \n",
    "\n",
    "\n",
    "#Make a back up copy of the Original Data Frame\n",
    "df_copy = df.copy()"
   ]
  },
  {
   "cell_type": "code",
   "execution_count": null,
   "metadata": {},
   "outputs": [],
   "source": [
    "# TODO: print out the shape of this dataframe for better clarity\n",
    "\n",
    "print(df.shape)"
   ]
  }
 ],
 "metadata": {
  "language_info": {
   "name": "python"
  }
 },
 "nbformat": 4,
 "nbformat_minor": 2
}
